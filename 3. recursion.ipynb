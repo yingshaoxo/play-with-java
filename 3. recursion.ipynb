{
 "cells": [
  {
   "cell_type": "code",
   "execution_count": 5,
   "metadata": {},
   "outputs": [],
   "source": [
    "public class RecursionTest1 {\n",
    "    public int factorial(int n) {\n",
    "        if (n == 1)\n",
    "            return 1;\n",
    "        else\n",
    "            return (n * factorial(n - 1));\n",
    "    }\n",
    "    \n",
    "    public void getFactorial(int num) {\n",
    "        System.out.println(\"Factorial of 5 is: \" + factorial(num));\n",
    "    }\n",
    "}"
   ]
  },
  {
   "cell_type": "code",
   "execution_count": 6,
   "metadata": {},
   "outputs": [
    {
     "name": "stdout",
     "output_type": "stream",
     "text": [
      "Factorial of 5 is: 720\n"
     ]
    }
   ],
   "source": [
    "new RecursionTest1().getFactorial(6);"
   ]
  },
  {
   "cell_type": "code",
   "execution_count": null,
   "metadata": {},
   "outputs": [],
   "source": []
  }
 ],
 "metadata": {
  "kernelspec": {
   "display_name": "Java",
   "language": "java",
   "name": "java"
  },
  "language_info": {
   "codemirror_mode": "java",
   "file_extension": ".jshell",
   "mimetype": "text/x-java-source",
   "name": "Java",
   "pygments_lexer": "java",
   "version": "11.0.8-internal+0-adhoc..src"
  }
 },
 "nbformat": 4,
 "nbformat_minor": 4
}
