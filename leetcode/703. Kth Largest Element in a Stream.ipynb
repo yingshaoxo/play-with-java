{
 "cells": [
  {
   "cell_type": "markdown",
   "metadata": {},
   "source": [
    "https://leetcode.com/problems/kth-largest-element-in-a-stream\n",
    "\n",
    "\n",
    "Runtime: 1511 ms, faster than 5.01% of Java online submissions for Kth Largest Element in a Stream.\n",
    "Memory Usage: 46.4 MB, less than 10.74% of Java online submissions for Kth Largest Element in a Stream.\n",
    "\n",
    "\n",
    "\n",
    "```java\n",
    "import java.util.*;\n",
    "import java.util.ArrayList;\n",
    "\n",
    "class KthLargest {\n",
    "    List<Integer> stream;\n",
    "    int k;\n",
    "\n",
    "    public KthLargest(int k, int[] nums) {\n",
    "        this.k = k - 1;\n",
    "\n",
    "        this.stream =  new ArrayList<Integer>(nums.length);\n",
    "        for (int i : nums) {\n",
    "            this.stream.add(i);\n",
    "        }\n",
    "    }\n",
    "\n",
    "    public int add(int val) {\n",
    "        this.stream.add(val);\n",
    "        Collections.sort(this.stream, Collections.reverseOrder());\n",
    "        return this.stream.get(this.k);\n",
    "    }\n",
    "}\n",
    "```"
   ]
  },
  {
   "cell_type": "code",
   "execution_count": null,
   "metadata": {},
   "outputs": [],
   "source": []
  }
 ],
 "metadata": {
  "kernelspec": {
   "display_name": "Java",
   "language": "java",
   "name": "java"
  },
  "language_info": {
   "codemirror_mode": "java",
   "file_extension": ".jshell",
   "mimetype": "text/x-java-source",
   "name": "Java",
   "pygments_lexer": "java",
   "version": "11.0.8-internal+0-adhoc..src"
  }
 },
 "nbformat": 4,
 "nbformat_minor": 4
}
