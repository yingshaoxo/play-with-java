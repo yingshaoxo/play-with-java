{
 "cells": [
  {
   "cell_type": "markdown",
   "metadata": {},
   "source": [
    "https://leetcode.com/problems/check-if-n-and-its-double-exist\n",
    "\n",
    "\n",
    "\n",
    "Runtime: 1 ms, faster than 98.26% of Java online submissions for Check If N and Its Double Exist.\n",
    "Memory Usage: 38.1 MB, less than 99.39% of Java online submissions for Check If N and Its Double Exist.\n",
    "\n",
    "\n",
    "\n",
    "```java\n",
    "class ContainsResult {\n",
    "    boolean contains;\n",
    "    int index;\n",
    "\n",
    "    ContainsResult(boolean contains, int index) {\n",
    "        this.contains = contains;\n",
    "        this.index = index;\n",
    "    }\n",
    "}\n",
    "\n",
    "class Solution {\n",
    "    public boolean checkIfExist(int[] arr) {\n",
    "        for (int i=0; i<arr.length; ++i) {\n",
    "            int v = arr[i];\n",
    "            int d_v = v * 2;\n",
    "            ContainsResult result = this.contains(d_v, arr);\n",
    "            if (result.contains && result.index != i) {\n",
    "                return true;\n",
    "            }\n",
    "        }\n",
    "        return false;\n",
    "    }\n",
    "\n",
    "    private ContainsResult contains(int v, int[] arr) {\n",
    "        for (int i=0; i < arr.length; ++i) {\n",
    "            if (arr[i] == v) {\n",
    "                return new ContainsResult(true, i);\n",
    "            }\n",
    "        }\n",
    "        return new ContainsResult(false, 0);\n",
    "    }\n",
    "\n",
    "    public static void main(String[] args) {\n",
    "        int[] nums = { 10,2,5,3 };\n",
    "        // int[] nums = { 2, 1, 3 };\n",
    "        boolean r = new Solution().checkIfExist(nums);\n",
    "        System.out.println(r);\n",
    "    }\n",
    "}\n",
    "```"
   ]
  },
  {
   "cell_type": "code",
   "execution_count": null,
   "metadata": {},
   "outputs": [],
   "source": []
  }
 ],
 "metadata": {
  "kernelspec": {
   "display_name": "Java",
   "language": "java",
   "name": "java"
  },
  "language_info": {
   "codemirror_mode": "java",
   "file_extension": ".jshell",
   "mimetype": "text/x-java-source",
   "name": "Java",
   "pygments_lexer": "java",
   "version": "11.0.8-internal+0-adhoc..src"
  }
 },
 "nbformat": 4,
 "nbformat_minor": 4
}
