{
 "cells": [
  {
   "cell_type": "markdown",
   "metadata": {},
   "source": [
    "https://leetcode.com/problems/day-of-the-year/\n",
    "\n",
    "\n",
    "\n",
    "Runtime: 40 ms, faster than 5.25% of Java online submissions for Day of the Year.\n",
    "Memory Usage: 42 MB, less than 5.25% of Java online submissions for Day of the Year.\n",
    "\n",
    "\n",
    "\n",
    "```java\n",
    "import java.text.ParseException;\n",
    "import java.text.SimpleDateFormat;\n",
    "import java.util.Date;\n",
    "\n",
    "class Solution {\n",
    "    public int dayOfYear(String date) {\n",
    "        Date date1;\n",
    "        Date date2;\n",
    "        int days = 0;\n",
    "        try {\n",
    "            date1 = new SimpleDateFormat(\"yyyy-MM-dd\").parse(date);\n",
    "            date2 = new SimpleDateFormat(\"yyyy-MM-dd\").parse(date.substring(0, 4) + \"-\" + \"01\" + \"-\" + \"01\");\n",
    "            long difference_In_Time = date1.getTime() - date2.getTime();\n",
    "            long difference_In_Days = (difference_In_Time / (1000 * 60 * 60 * 24)) % 365;\n",
    "            days = (int) difference_In_Days + 1;\n",
    "\n",
    "        } catch (ParseException e) {\n",
    "            e.printStackTrace();\n",
    "        }\n",
    "        return days;\n",
    "    }\n",
    "\n",
    "    public static void main(String[] args) {\n",
    "        int r = new Solution().dayOfYear(\"2019-02-10\");\n",
    "        System.out.println(r);\n",
    "    }\n",
    "}\n",
    "```"
   ]
  },
  {
   "cell_type": "code",
   "execution_count": null,
   "metadata": {},
   "outputs": [],
   "source": []
  }
 ],
 "metadata": {
  "kernelspec": {
   "display_name": "Java",
   "language": "java",
   "name": "java"
  },
  "language_info": {
   "codemirror_mode": "java",
   "file_extension": ".jshell",
   "mimetype": "text/x-java-source",
   "name": "Java",
   "pygments_lexer": "java",
   "version": "11.0.8-internal+0-adhoc..src"
  }
 },
 "nbformat": 4,
 "nbformat_minor": 4
}
