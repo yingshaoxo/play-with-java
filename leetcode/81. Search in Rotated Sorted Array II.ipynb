{
 "cells": [
  {
   "cell_type": "markdown",
   "id": "956ca4d7-6dec-4815-b465-0822dbf9be8a",
   "metadata": {},
   "source": [
    "https://leetcode.com/problems/search-in-rotated-sorted-array-ii\n",
    "\n",
    "\n",
    "Runtime: 0 ms, faster than 100.00% of Java online submissions for Search in Rotated Sorted Array II.\n",
    "Memory Usage: 38.8 MB, less than 52.17% of Java online submissions for Search in Rotated Sorted Array II.\n",
    "\n",
    "\n",
    "```java\n",
    "class Solution {\n",
    "    public boolean search(int[] nums, int target) {\n",
    "        for (int i = 0; i < nums.length; i++) {\n",
    "            if (nums[i] == target) {\n",
    "                return true;\n",
    "            }\n",
    "        }\n",
    "        return false;\n",
    "    }\n",
    "}\n",
    "```"
   ]
  },
  {
   "cell_type": "code",
   "execution_count": null,
   "id": "9730f91f-86a3-49cf-b00f-5dadd76c8a45",
   "metadata": {},
   "outputs": [],
   "source": []
  }
 ],
 "metadata": {
  "kernelspec": {
   "display_name": "Java",
   "language": "java",
   "name": "java"
  },
  "language_info": {
   "codemirror_mode": "java",
   "file_extension": ".jshell",
   "mimetype": "text/x-java-source",
   "name": "Java",
   "pygments_lexer": "java",
   "version": "11.0.11+9-Ubuntu-0ubuntu2.20.10"
  }
 },
 "nbformat": 4,
 "nbformat_minor": 5
}
