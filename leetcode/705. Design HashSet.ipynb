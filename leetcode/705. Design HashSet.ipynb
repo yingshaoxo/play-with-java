{
 "cells": [
  {
   "cell_type": "markdown",
   "metadata": {},
   "source": [
    "https://leetcode.com/problems/design-hashset\n",
    "\n",
    "\n",
    "Runtime: 21 ms, faster than 24.68% of Java online submissions for Design HashSet.\n",
    "Memory Usage: 54 MB, less than 6.62% of Java online submissions for Design HashSet.\n",
    "\n",
    "\n",
    "```java\n",
    "import java.util.HashMap;\n",
    "import java.util.HashSet;\n",
    "import java.util.Map;\n",
    "import java.util.Set;\n",
    "\n",
    "class MyHashSet {\n",
    "    Set<Integer> set = new HashSet<Integer>();\n",
    "\n",
    "    /** Initialize your data structure here. */\n",
    "    public MyHashSet() {\n",
    "    }\n",
    "    \n",
    "    public void add(int key) {\n",
    "        set.add(key);\n",
    "    }\n",
    "    \n",
    "    public void remove(int key) {\n",
    "        set.remove(key);\n",
    "    }\n",
    "    \n",
    "    /** Returns true if this set contains the specified element */\n",
    "    public boolean contains(int key) {\n",
    "        return set.contains(key);\n",
    "    }\n",
    "}\n",
    "```"
   ]
  },
  {
   "cell_type": "code",
   "execution_count": null,
   "metadata": {},
   "outputs": [],
   "source": []
  }
 ],
 "metadata": {
  "kernelspec": {
   "display_name": "Java",
   "language": "java",
   "name": "java"
  },
  "language_info": {
   "codemirror_mode": "java",
   "file_extension": ".jshell",
   "mimetype": "text/x-java-source",
   "name": "Java",
   "pygments_lexer": "java",
   "version": "11.0.8-internal+0-adhoc..src"
  }
 },
 "nbformat": 4,
 "nbformat_minor": 4
}
