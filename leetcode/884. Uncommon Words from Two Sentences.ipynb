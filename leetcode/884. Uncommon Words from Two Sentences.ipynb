{
 "cells": [
  {
   "cell_type": "markdown",
   "metadata": {},
   "source": [
    "https://leetcode.com/problems/uncommon-words-from-two-sentences\n",
    "\n",
    "\n",
    "Runtime: 2 ms, faster than 78.90% of Java online submissions for Uncommon Words from Two Sentences.\n",
    "Memory Usage: 37.3 MB, less than 98.75% of Java online submissions for Uncommon Words from Two Sentences.\n",
    "\n",
    "\n",
    "```java\n",
    "import java.util.HashMap;\n",
    "import java.util.Map;\n",
    "import java.util.ArrayList; \n",
    "\n",
    "class Solution {\n",
    "    HashMap<String, Integer> counter = new HashMap<String, Integer>();\n",
    "\n",
    "    HashMap<String, Integer> updateCounter(String[] l) {\n",
    "        for (String v : l) {\n",
    "            if (counter.containsKey(v)) {\n",
    "                counter.put(v, counter.get(v) + 1);\n",
    "            } else {\n",
    "                counter.put(v, 1);\n",
    "            }\n",
    "        }\n",
    "\n",
    "        return counter;\n",
    "    }\n",
    "\n",
    "    public String[] uncommonFromSentences(String A, String B) {\n",
    "        String[] a = A.split(\" \", -1);\n",
    "        String[] b = B.split(\" \", -1);\n",
    "        ArrayList<String> r = new ArrayList<String>();\n",
    "\n",
    "        updateCounter(a);\n",
    "        updateCounter(b);\n",
    "\n",
    "        for (Map.Entry<String, Integer> e : counter.entrySet()) {\n",
    "            if (e.getValue() == 1) {\n",
    "                r.add(e.getKey());\n",
    "            }\n",
    "        }\n",
    "\n",
    "        return  r.toArray(String[]::new);\n",
    "    }\n",
    "}\n",
    "```"
   ]
  },
  {
   "cell_type": "code",
   "execution_count": null,
   "metadata": {},
   "outputs": [],
   "source": []
  }
 ],
 "metadata": {
  "kernelspec": {
   "display_name": "Java",
   "language": "java",
   "name": "java"
  },
  "language_info": {
   "codemirror_mode": "java",
   "file_extension": ".jshell",
   "mimetype": "text/x-java-source",
   "name": "Java",
   "pygments_lexer": "java",
   "version": "11.0.8-internal+0-adhoc..src"
  }
 },
 "nbformat": 4,
 "nbformat_minor": 4
}
