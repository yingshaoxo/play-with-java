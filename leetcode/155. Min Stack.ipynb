{
 "cells": [
  {
   "cell_type": "markdown",
   "metadata": {},
   "source": [
    "https://leetcode.com/problems/min-stack\n",
    "\n",
    "\n",
    "\n",
    "Runtime: 457 ms, faster than 5.01% of Java online submissions for Min Stack.\n",
    "Memory Usage: 40.6 MB, less than 83.39% of Java online submissions for Min Stack.\n",
    "\n",
    "\n",
    "\n",
    "```java\n",
    "import java.util.ArrayList;\n",
    "import java.util.*; \n",
    "\n",
    "class MinStack {\n",
    "    List<Integer> stack;\n",
    "\n",
    "    /** initialize your data structure here. */\n",
    "    public MinStack() {\n",
    "        stack = new ArrayList<Integer>();\n",
    "    }\n",
    "\n",
    "    public void push(int x) {\n",
    "        this.stack.add(x);\n",
    "    }\n",
    "\n",
    "    public void pop() {\n",
    "        this.stack.remove(this.stack.size()-1);\n",
    "    }\n",
    "\n",
    "    public int top() {\n",
    "        return this.stack.get(this.stack.size()-1);\n",
    "    }\n",
    "\n",
    "    public int getMin() {\n",
    "        return Collections.min(this.stack);\n",
    "    }\n",
    "}\n",
    "```"
   ]
  },
  {
   "cell_type": "code",
   "execution_count": null,
   "metadata": {},
   "outputs": [],
   "source": []
  }
 ],
 "metadata": {
  "kernelspec": {
   "display_name": "Java",
   "language": "java",
   "name": "java"
  },
  "language_info": {
   "codemirror_mode": "java",
   "file_extension": ".jshell",
   "mimetype": "text/x-java-source",
   "name": "Java",
   "pygments_lexer": "java",
   "version": "11.0.8-internal+0-adhoc..src"
  }
 },
 "nbformat": 4,
 "nbformat_minor": 4
}
