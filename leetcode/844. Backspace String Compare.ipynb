{
 "cells": [
  {
   "cell_type": "markdown",
   "metadata": {},
   "source": [
    "https://leetcode.com/problems/backspace-string-compare\n",
    "\n",
    "\n",
    "\n",
    "Runtime: 4 ms, faster than 10.26% of Java online submissions for Backspace String Compare.\n",
    "Memory Usage: 39.2 MB, less than 6.20% of Java online submissions for Backspace String Compare.\n",
    "\n",
    "\n",
    "\n",
    "```java\n",
    "class Solution <T> {\n",
    "    public boolean backspaceCompare(String S, String T) {\n",
    "        System.out.println(this.inputBox(S));\n",
    "        System.out.println(this.inputBox(T));\n",
    "        return this.inputBox(S).equals(this.inputBox(T));\n",
    "    }\n",
    "\n",
    "    private String inputBox(String s) {\n",
    "        String r = \"\";\n",
    "        for(int i = 0; i < s.length(); i++) {\n",
    "            String c = s.substring(i, i+1);\n",
    "            //System.out.println(c);\n",
    "            if (c.equals(\"#\")) {\n",
    "                if (r.length() > 0) {\n",
    "                    r = r.substring(0, r.length()-1);\n",
    "                }\n",
    "            } else {\n",
    "                r += c;\n",
    "            }\n",
    "        }\n",
    "        return r;\n",
    "    }\n",
    "\n",
    "    public static void main(String[] args) {\n",
    "        Boolean r = new Solution().backspaceCompare(\"a#c\", \"b\");\n",
    "        System.out.println(r.toString());\n",
    "    }\n",
    "}\n",
    "```"
   ]
  },
  {
   "cell_type": "code",
   "execution_count": null,
   "metadata": {},
   "outputs": [],
   "source": []
  }
 ],
 "metadata": {
  "kernelspec": {
   "display_name": "Java",
   "language": "java",
   "name": "java"
  },
  "language_info": {
   "codemirror_mode": "java",
   "file_extension": ".jshell",
   "mimetype": "text/x-java-source",
   "name": "Java",
   "pygments_lexer": "java",
   "version": "11.0.8-internal+0-adhoc..src"
  }
 },
 "nbformat": 4,
 "nbformat_minor": 4
}
