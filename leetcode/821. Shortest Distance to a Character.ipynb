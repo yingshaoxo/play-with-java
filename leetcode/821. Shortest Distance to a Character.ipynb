{
 "cells": [
  {
   "cell_type": "markdown",
   "id": "63370479-d5d7-4d47-99ee-73e123528136",
   "metadata": {},
   "source": [
    "https://leetcode.com/problems/shortest-distance-to-a-character\n",
    "\n",
    "\n",
    "Runtime: 19 ms, faster than 5.32% of Java online submissions for Shortest Distance to a Character.\n",
    "Memory Usage: 39.2 MB, less than 43.46% of Java online submissions for Shortest Distance to a Character.\n",
    "\n",
    "\n",
    "```java\n",
    "import java.util.ArrayList;\n",
    "import java.util.List;\n",
    "import java.lang.Math;\n",
    "import java.util.Collections;  \n",
    "\n",
    "class Solution {\n",
    "    public int[] shortestToChar(String s, char c) {\n",
    "        //9:25\n",
    "        List<Integer> target_list = new ArrayList<Integer>(); \n",
    "\n",
    "        for (int i = 0; i < s.length(); i++) {\n",
    "            if (s.charAt(i) == c) {\n",
    "                target_list.add(i);\n",
    "            }\n",
    "        }\n",
    "\n",
    "        List<Integer> result = new ArrayList<Integer>(); \n",
    "        for (int i = 0; i < s.length(); i++) {\n",
    "            List<Integer> temp_list = new ArrayList<Integer>(); \n",
    "            for (int j=0; j < target_list.size(); j++) {\n",
    "                temp_list.add(Math.abs(target_list.get(j) - i));\n",
    "            }\n",
    "            Collections.sort(temp_list);\n",
    "            result.add(temp_list.get(0));\n",
    "        }\n",
    "\n",
    "        int[] array = result.stream().mapToInt(i->i).toArray();\n",
    "        return array;\n",
    "        //9:33\n",
    "    }\n",
    "}\n",
    "```"
   ]
  },
  {
   "cell_type": "code",
   "execution_count": null,
   "id": "4e9cc12c-1f65-4abc-b72e-ec8178658af1",
   "metadata": {},
   "outputs": [],
   "source": []
  }
 ],
 "metadata": {
  "kernelspec": {
   "display_name": "Java",
   "language": "java",
   "name": "java"
  },
  "language_info": {
   "codemirror_mode": "java",
   "file_extension": ".jshell",
   "mimetype": "text/x-java-source",
   "name": "Java",
   "pygments_lexer": "java",
   "version": "11.0.10+9-Ubuntu-0ubuntu1.20.10"
  }
 },
 "nbformat": 4,
 "nbformat_minor": 5
}
